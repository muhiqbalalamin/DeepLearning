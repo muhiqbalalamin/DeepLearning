{
  "nbformat": 4,
  "nbformat_minor": 0,
  "metadata": {
  },
  "cells": [
    {
      "cell_type": "markdown",
      "metadata": {
        "id": "view-in-github",
        "colab_type": "text"
      },
      "source": [
        "<a href=\"https://colab.research.google.com/github/muhiqbalalamin/DeepLearning/blob/main/DeteksiSarkasme_Pytorch.ipynb\" target=\"_parent\"><img src=\"https://colab.research.google.com/assets/colab-badge.svg\" alt=\"Open In Colab\"/></a>"
      ]
    },
    {
      "cell_type": "code",
      "source": [
        "!pip install torch torchvision"
      ],
      "metadata": {
        "id": "tHtrCSvKb2QR"
      },
      "execution_count": null,
      "outputs": []
    },
    {
      "cell_type": "code",
      "source": [
        "import pandas as pd\n",
        "import numpy as np\n",
        "import matplotlib.pyplot as plt\n",
        "import torch\n",
        "import torch.nn as nn\n",
        "import torch.optim as optim\n",
        "from torch.utils.data import TensorDataset, DataLoader\n",
        "from sklearn.model_selection import train_test_split\n",
        "from sklearn.metrics import accuracy_score, precision_score, recall_score, f1_score, roc_auc_score, roc_curve\n",
        "import requests\n",
        "import json\n",
        "import gc\n",
        "import time\n",
        "from tqdm.notebook import tqdm  # For progress bars in Colab"
      ],
      "metadata": {
        "id": "pqBQRlqjc0Zw"
      },
      "execution_count": 1,
      "outputs": []
    },
    {
      "cell_type": "code",
      "source": [
        "# Check device and set seed for reproducibility\n",
        "device = torch.device(\"cuda\" if torch.cuda.is_available() else \"cpu\")\n",
        "torch.manual_seed(42)\n",
        "if torch.cuda.is_available():\n",
        "    torch.cuda.manual_seed_all(42)\n",
        "print(f\"Using device: {device}\")\n",
        "\n",
        "def load_data_from_github():\n",
        "    url = \"https://raw.githubusercontent.com/rishabhmisra/News-Headlines-Dataset-For-Sarcasm-Detection/master/Sarcasm_Headlines_Dataset.json\"\n",
        "    response = requests.get(url)\n",
        "\n",
        "    if response.status_code == 200:\n",
        "        data = [json.loads(line) for line in response.text.splitlines()]\n",
        "        return pd.DataFrame(data)\n",
        "    else:\n",
        "        raise Exception(f\"Failed to load data: {response.status_code}\")\n"
      ],
      "metadata": {
        "colab": {
          "base_uri": "https://localhost:8080/"
        },
        "id": "1nD7toJWc2oA",
        "outputId": "7af0cc72-0f8d-490b-b73b-8a61ac79f2b1"
      },
      "execution_count": 4,
      "outputs": [
        {
          "output_type": "stream",
          "name": "stdout",
          "text": [
            "Using device: cpu\n"
          ]
        }
      ]
    },
    {
      "cell_type": "code",
      "source": [
        "# Download data and preprocess\n",
        "print(\"Loading dataset from GitHub...\")\n",
        "df = load_data_from_github()\n",
        "df = df[['headline', 'is_sarcastic']].dropna()\n",
        "print(f\"Dataset loaded with {len(df)} entries\")\n",
        "print(\"Label Distribution:\\n\", df['is_sarcastic'].value_counts())\n",
        "\n",
        "# Tokenization and padding\n",
        "print(\"Tokenizing and padding sequences...\")\n",
        "from tensorflow.keras.preprocessing.text import Tokenizer\n",
        "from tensorflow.keras.preprocessing.sequence import pad_sequences\n",
        "\n",
        "# Set up tokenizer with limited vocabulary for efficiency\n",
        "MAX_VOCAB_SIZE = 10000\n",
        "MAX_SEQUENCE_LENGTH = 30\n",
        "\n",
        "tokenizer = Tokenizer(num_words=MAX_VOCAB_SIZE, oov_token=\"<OOV>\")\n",
        "tokenizer.fit_on_texts(df['headline'])\n",
        "X = tokenizer.texts_to_sequences(df['headline'])\n",
        "X = pad_sequences(X, maxlen=MAX_SEQUENCE_LENGTH, padding='post', truncating='post')\n",
        "y = df['is_sarcastic'].values\n",
        "\n",
        "# Train/test split\n",
        "X_train, X_test, y_train, y_test = train_test_split(X, y, test_size=0.2, random_state=42, stratify=y)\n",
        "\n",
        "# Convert to tensors\n",
        "X_train_tensor = torch.tensor(X_train, dtype=torch.long)\n",
        "X_test_tensor = torch.tensor(X_test, dtype=torch.long)\n",
        "y_train_tensor = torch.tensor(y_train, dtype=torch.float32)\n",
        "y_test_tensor = torch.tensor(y_test, dtype=torch.float32)\n",
        "\n",
        "# Create DataLoaders with appropriate batch sizes\n",
        "train_dataset = TensorDataset(X_train_tensor, y_train_tensor)\n",
        "test_dataset = TensorDataset(X_test_tensor, y_test_tensor)\n",
        "\n",
        "# Use larger batch size if on GPU, smaller if on CPU\n",
        "BATCH_SIZE = 128 if torch.cuda.is_available() else 64\n",
        "train_loader = DataLoader(train_dataset, batch_size=BATCH_SIZE, shuffle=True)\n",
        "test_loader = DataLoader(test_dataset, batch_size=BATCH_SIZE * 2)\n",
        "\n",
        "# Calculate class weights for imbalanced data\n",
        "pos_weight_val = (len(y_train) - y_train.sum()) / y_train.sum()\n",
        "pos_weight = torch.tensor([pos_weight_val]).to(device)\n",
        "print(f\"Positive class weight: {pos_weight_val:.4f}\")"
      ],
      "metadata": {
        "colab": {
          "base_uri": "https://localhost:8080/"
        },
        "id": "MSWQXOkyc5FQ",
        "outputId": "3c0149c5-9702-4087-8946-c8723175a8c5"
      },
      "execution_count": 5,
      "outputs": [
        {
          "output_type": "stream",
          "name": "stdout",
          "text": [
            "Loading dataset from GitHub...\n",
            "Dataset loaded with 28619 entries\n",
            "Label Distribution:\n",
            " is_sarcastic\n",
            "0    14985\n",
            "1    13634\n",
            "Name: count, dtype: int64\n",
            "Tokenizing and padding sequences...\n",
            "Positive class weight: 1.0991\n"
          ]
        }
      ]
    },
    {
      "cell_type": "code",
      "source": [
        "# Base model class for all RNN variants\n",
        "class SarcasmRNNBase(nn.Module):\n",
        "    def __init__(self, vocab_size, embedding_dim, hidden_dim, output_dim, rnn_type='rnn'):\n",
        "        super(SarcasmRNNBase, self).__init__()\n",
        "        self.embedding = nn.Embedding(vocab_size, embedding_dim)\n",
        "\n",
        "        # Set up RNN layer based on type\n",
        "        if rnn_type.lower() == 'rnn':\n",
        "            self.rnn = nn.RNN(embedding_dim, hidden_dim, batch_first=True, bidirectional=True)\n",
        "        elif rnn_type.lower() == 'lstm':\n",
        "            self.rnn = nn.LSTM(embedding_dim, hidden_dim, batch_first=True, bidirectional=True)\n",
        "        elif rnn_type.lower() == 'gru':\n",
        "            self.rnn = nn.GRU(embedding_dim, hidden_dim, batch_first=True, bidirectional=True)\n",
        "        else:\n",
        "            raise ValueError(\"rnn_type must be one of: 'rnn', 'lstm', 'gru'\")\n",
        "\n",
        "        self.rnn_type = rnn_type.lower()\n",
        "        self.fc1 = nn.Linear(hidden_dim * 2, 128)\n",
        "        self.dropout = nn.Dropout(0.5)\n",
        "        self.fc2 = nn.Linear(128, output_dim)\n",
        "\n",
        "    def forward(self, x):\n",
        "        # Embedding layer\n",
        "        embedded = self.embedding(x)\n",
        "\n",
        "        # Process through RNN layer\n",
        "        if self.rnn_type == 'lstm':\n",
        "            _, (hidden, _) = self.rnn(embedded)\n",
        "        else:\n",
        "            _, hidden = self.rnn(embedded)\n",
        "\n",
        "        # Concatenate bidirectional outputs\n",
        "        hidden = torch.cat((hidden[-2,:,:], hidden[-1,:,:]), dim=1)\n",
        "\n",
        "        # Fully connected layers\n",
        "        out = torch.relu(self.fc1(hidden))\n",
        "        out = self.dropout(out)\n",
        "        out = self.fc2(out)\n",
        "\n",
        "        return out.squeeze(1)"
      ],
      "metadata": {
        "id": "CSWnSEAFc7QI"
      },
      "execution_count": 6,
      "outputs": []
    },
    {
      "cell_type": "code",
      "source": [
        "# Training function\n",
        "def train_model(model, model_name, train_loader, test_loader, criterion, optimizer, epochs=10):\n",
        "    train_acc_hist, val_acc_hist = [], []\n",
        "    train_loss_hist, val_loss_hist = [], []\n",
        "    best_val_acc = 0\n",
        "    start_time = time.time()\n",
        "\n",
        "    for epoch in range(epochs):\n",
        "        # Training phase\n",
        "        model.train()\n",
        "        total_loss, correct = 0, 0\n",
        "        train_bar = tqdm(train_loader, desc=f\"Epoch {epoch+1}/{epochs} [Train]\")\n",
        "\n",
        "        for x_batch, y_batch in train_bar:\n",
        "            x_batch, y_batch = x_batch.to(device), y_batch.to(device)\n",
        "\n",
        "            # Forward pass\n",
        "            optimizer.zero_grad()\n",
        "            outputs = model(x_batch)\n",
        "            loss = criterion(outputs, y_batch)\n",
        "\n",
        "            # Backward pass\n",
        "            loss.backward()\n",
        "            torch.nn.utils.clip_grad_norm_(model.parameters(), max_norm=1.0)  # Gradient clipping\n",
        "            optimizer.step()\n",
        "\n",
        "            # Statistics\n",
        "            total_loss += loss.item()\n",
        "            preds = (torch.sigmoid(outputs) >= 0.5).float()\n",
        "            correct += (preds == y_batch).sum().item()\n",
        "\n",
        "            # Update progress bar\n",
        "            train_bar.set_postfix(loss=f\"{loss.item():.4f}\")\n",
        "\n",
        "        train_acc = correct / len(train_loader.dataset)\n",
        "        train_loss = total_loss / len(train_loader)\n",
        "        train_acc_hist.append(train_acc)\n",
        "        train_loss_hist.append(train_loss)\n",
        "\n",
        "        # Validation phase\n",
        "        model.eval()\n",
        "        val_loss, val_correct = 0, 0\n",
        "        y_probs, y_true = [], []\n",
        "\n",
        "        with torch.no_grad():\n",
        "            val_bar = tqdm(test_loader, desc=f\"Epoch {epoch+1}/{epochs} [Valid]\")\n",
        "            for x_batch, y_batch in val_bar:\n",
        "                x_batch, y_batch = x_batch.to(device), y_batch.to(device)\n",
        "                outputs = model(x_batch)\n",
        "                loss = criterion(outputs, y_batch)\n",
        "                val_loss += loss.item()\n",
        "\n",
        "                # Store probabilities and true labels\n",
        "                probs = torch.sigmoid(outputs)\n",
        "                preds = (probs >= 0.5).float()\n",
        "                val_correct += (preds == y_batch).sum().item()\n",
        "\n",
        "                y_probs.extend(probs.cpu().numpy())\n",
        "                y_true.extend(y_batch.cpu().numpy())\n",
        "\n",
        "                val_bar.set_postfix(loss=f\"{loss.item():.4f}\")\n",
        "\n",
        "        val_acc = val_correct / len(test_loader.dataset)\n",
        "        val_loss = val_loss / len(test_loader)\n",
        "        val_acc_hist.append(val_acc)\n",
        "        val_loss_hist.append(val_loss)\n",
        "\n",
        "        # Save best model\n",
        "        if val_acc > best_val_acc:\n",
        "            best_val_acc = val_acc\n",
        "            torch.save(model.state_dict(), f\"{model_name}_best.pt\")\n",
        "\n",
        "        print(f\"Epoch {epoch+1}/{epochs} | \"\n",
        "              f\"Train Loss: {train_loss:.4f}, Acc: {train_acc:.4f} | \"\n",
        "              f\"Val Loss: {val_loss:.4f}, Acc: {val_acc:.4f}\")\n",
        "\n",
        "    training_time = time.time() - start_time\n",
        "    print(f\"Training completed in {training_time:.2f} seconds\")\n",
        "\n",
        "    # Load best model for evaluation\n",
        "    model.load_state_dict(torch.load(f\"{model_name}_best.pt\"))\n",
        "    return model, train_acc_hist, val_acc_hist, train_loss_hist, val_loss_hist"
      ],
      "metadata": {
        "id": "UobpVFcAdAaQ"
      },
      "execution_count": 7,
      "outputs": []
    },
    {
      "cell_type": "code",
      "source": [
        "# Evaluation function\n",
        "def evaluate_model(model, test_loader, model_name):\n",
        "    model.eval()\n",
        "    y_probs, y_true = [], []\n",
        "\n",
        "    with torch.no_grad():\n",
        "        for x_batch, y_batch in test_loader:\n",
        "            x_batch = x_batch.to(device)\n",
        "            outputs = model(x_batch)\n",
        "            probs = torch.sigmoid(outputs)\n",
        "\n",
        "            y_probs.extend(probs.cpu().numpy())\n",
        "            y_true.extend(y_batch.numpy())\n",
        "\n",
        "    y_probs = np.array(y_probs)\n",
        "    y_true = np.array(y_true)\n",
        "    y_preds = (y_probs >= 0.5).astype(int)\n",
        "\n",
        "    # Calculate metrics\n",
        "    acc = accuracy_score(y_true, y_preds)\n",
        "    precision = precision_score(y_true, y_preds)\n",
        "    recall = recall_score(y_true, y_preds)\n",
        "    f1 = f1_score(y_true, y_preds)\n",
        "    f1_sq = f1 ** 2\n",
        "    auc = roc_auc_score(y_true, y_probs)\n",
        "\n",
        "    print(f\"\\n{model_name} Results:\")\n",
        "    print(f\"Accuracy: {acc:.4f}\")\n",
        "    print(f\"Precision: {precision:.4f}\")\n",
        "    print(f\"Recall: {recall:.4f}\")\n",
        "    print(f\"F1 Score: {f1:.4f}\")\n",
        "    print(f\"F1 Squared: {f1_sq:.4f}\")\n",
        "    print(f\"AUC: {auc:.4f}\")\n",
        "\n",
        "    # Plot ROC curve\n",
        "    fpr, tpr, _ = roc_curve(y_true, y_probs)\n",
        "    plt.figure(figsize=(8, 6))\n",
        "    plt.plot(fpr, tpr, label=f'ROC Curve (AUC = {auc:.4f})')\n",
        "    plt.plot([0, 1], [0, 1], 'k--')\n",
        "    plt.xlabel('False Positive Rate')\n",
        "    plt.ylabel('True Positive Rate')\n",
        "    plt.title(f'ROC Curve - {model_name}')\n",
        "    plt.legend()\n",
        "    plt.grid(alpha=0.3)\n",
        "    plt.savefig(f\"{model_name}_roc.png\")\n",
        "    plt.show()\n",
        "\n",
        "    return acc, precision, recall, f1_sq, auc"
      ],
      "metadata": {
        "id": "wiyTKrILdCVw"
      },
      "execution_count": 8,
      "outputs": []
    },
    {
      "cell_type": "code",
      "source": [
        "# Plot training history\n",
        "def plot_training_history(train_acc_hist, val_acc_hist, train_loss_hist, val_loss_hist, model_name):\n",
        "    plt.figure(figsize=(12, 5))\n",
        "\n",
        "    plt.subplot(1, 2, 1)\n",
        "    plt.plot(train_acc_hist, label='Train Acc', marker='o')\n",
        "    plt.plot(val_acc_hist, label='Val Acc', marker='s')\n",
        "    plt.title(f'{model_name} Accuracy')\n",
        "    plt.xlabel('Epoch')\n",
        "    plt.ylabel('Accuracy')\n",
        "    plt.legend()\n",
        "    plt.grid(alpha=0.3)\n",
        "\n",
        "    plt.subplot(1, 2, 2)\n",
        "    plt.plot(train_loss_hist, label='Train Loss', marker='o')\n",
        "    plt.plot(val_loss_hist, label='Val Loss', marker='s')\n",
        "    plt.title(f'{model_name} Loss')\n",
        "    plt.xlabel('Epoch')\n",
        "    plt.ylabel('Loss')\n",
        "    plt.legend()\n",
        "    plt.grid(alpha=0.3)\n",
        "\n",
        "    plt.tight_layout()\n",
        "    plt.savefig(f\"{model_name}_history.png\")\n",
        "    plt.show()"
      ],
      "metadata": {
        "id": "zMJ8fHThaHso"
      },
      "execution_count": 9,
      "outputs": []
    },
    {
      "cell_type": "code",
      "source": [
        "# Model hyperparameters\n",
        "vocab_size = min(len(tokenizer.word_index) + 1, MAX_VOCAB_SIZE)\n",
        "embedding_dim = 128\n",
        "hidden_dim = 128\n",
        "output_dim = 1\n",
        "learning_rate = 0.001\n",
        "num_epochs = 10\n",
        "\n",
        "# Dictionary to store model results\n",
        "results = {}\n",
        "\n",
        "# Function to run full model training and evaluation\n",
        "def run_model(rnn_type):\n",
        "    model_name = rnn_type.upper()\n",
        "    print(f\"\\n{'='*50}\\nTraining {model_name} Model\\n{'='*50}\")\n",
        "\n",
        "    # Initialize model\n",
        "    model = SarcasmRNNBase(\n",
        "        vocab_size=vocab_size,\n",
        "        embedding_dim=embedding_dim,\n",
        "        hidden_dim=hidden_dim,\n",
        "        output_dim=output_dim,\n",
        "        rnn_type=rnn_type\n",
        "    ).to(device)\n",
        "\n",
        "    # Loss and optimizer\n",
        "    criterion = nn.BCEWithLogitsLoss(pos_weight=pos_weight)\n",
        "    optimizer = optim.Adam(model.parameters(), lr=learning_rate)\n",
        "\n",
        "    # Train model\n",
        "    model, train_acc_hist, val_acc_hist, train_loss_hist, val_loss_hist = train_model(\n",
        "        model, model_name, train_loader, test_loader, criterion, optimizer, epochs=num_epochs\n",
        "    )\n",
        "\n",
        "    # Evaluate model\n",
        "    metrics = evaluate_model(model, test_loader, model_name)\n",
        "\n",
        "    # Plot training history\n",
        "    plot_training_history(train_acc_hist, val_acc_hist, train_loss_hist, val_loss_hist, model_name)\n",
        "\n",
        "    # Clean memory\n",
        "    del model\n",
        "    torch.cuda.empty_cache() if torch.cuda.is_available() else None\n",
        "    gc.collect()\n",
        "\n",
        "    return metrics\n",
        "\n"
      ],
      "metadata": {
        "id": "HTDtODFsdFgg"
      },
      "execution_count": 10,
      "outputs": []
    },
    {
      "cell_type": "code",
      "source": [
        "# Dictionary to store results\n",
        "results = {}\n",
        "\n",
        "# Run RNN model\n",
        "print(\"\\nRunning RNN model...\")\n",
        "results['rnn'] = run_model('rnn')"
      ],
      "metadata": {
        "colab": {
          "base_uri": "https://localhost:8080/",
          "height": 1000,
          "referenced_widgets": [
            "4f055e18fa9d462cbb55a6135d410983",
            "a6d5c561e6884bd6ab9bfb46b6452e3f",
            "9e487e3f77344d469227850b157248df",
            "4ff2b2f9ea294bcca47fd70c6dec07ed",
            "578e9f50f5fd4500a478d50d5df09fd4",
            "a67dc8ae443240618982eae61e281882",
            "39e4de85f3ba40498ac4bc1647ab013b",
            "ec2218a9669e4cdeaf028f97bd459c35",
            "cec71ae652164a0ca8fff7328c2fff31",
            "77f1a6d3990741aca739a2bfa8a0363a",
            "52f6b0530fb34147905d06371c5e94ff",
            "29f7570afb8d4657ba94af1ca76cdee6",
            "945e0ae8122a4ceb893277a28bb2a14c",
            "f0aed484c10742f6b99d4c8af4484c84",
            "1edbdbf085bf435faddec5fa6cee0bce",
            "15ebe0c78b4043fc82c8783b6a469b56",
            "d73d72555cbc4752af41fe6a7c619bf4",
            "024f4e7783a049b6ba510506a83b9dc4",
            "7f7b62805e3641c88a7770bdedff7b5f",
            "6faf6522125e4c6ab877be106d0080d4",
            "229ec0757beb487b914e09377ce82c5d",
            "eb58ddde2aeb43eda97ee26eeeafa56a",
            "46e3c2b4fd3f46b9ba1f93d1b0351e54",
            "8fbca4f543f7481f8daae35b18bb41dc",
            "3b782e53f86a457ca6844fe02aebba31",
            "9eedb0f0c075455ca81152dadeff09cb",
            "527324569c544dcbb2aec595ba60fa3a",
            "9f91cbd9a6da45119299d34421307fa4",
            "9477c346f73f4fe5ba5dd81204ca2522",
            "4456039ecf43487397ef3b4bc4776e73",
            "a4255460377d47c3a0de4534ecefd5bd",
            "832ef985d2984b75ac3a9d4cd054cb43",
            "e8482b5ff81741ce8fe18ffac6038836",
            "fc76d667bed04d68b04390bbf912e16e",
            "7db986ef1cab40b59dfa9a64c81a0398",
            "c6e51d97b10a44ffbf307dc34c888808",
            "56c5916665e9490e8ed15f8d48191b6b",
            "1591ecb0fa3d42dfa011b7979530bbc0",
            "a8b0b51ff4ba4428844d7ef3fca8ff74",
            "048bd5d0862e4fb1af9592347499c6b3",
            "0d5b3077a8284cd397eeb0bcbe9144a3",
            "c7daf7215d8d42529621783c6f590052",
            "cd2f9485eef74e1585d7266803d87a78",
            "9beb51fc51fb44bcab9074d097d8df8b",
            "b11f7a9a769141788c64899cb3878170",
            "f2604a6a6ef7444ab6a37ea0138e8676",
            "e915bc0fbd8c4778873fa5ded6448709",
            "5d6bbfa1faee456eb1b6f57ad64feaec",
            "24f10129562741cfb8456e225ab240d3",
            "20b7831cfff74b1d8eea89a68fc92e44",
            "03e40fa673964673b67dd0bbfa4d103a",
            "69270b00f2e840dca9f0eadb732f6019",
            "e336ce3585ab48a793466de206e43b2f",
            "8165b67dd9974d84abc6e1b3a34b7244",
            "b130b8dba6104b68b1457b2c0ea03d41",
            "2e8bf860efa84fbba726923d942f11cc",
            "59930cc95cf24ab2a68d4c6f524565ef",
            "317e10b6cc3a4e8fa6c8828acf4ed479",
            "ddb53302dcfe4597a795573322e7ecc2",
            "00e71a7d2c234b23bb3f55cbf602837a",
            "945ddedf77d44a3cbb1f20b61d096b50",
            "33eff8f52cb240a4840c0629df7bc5c5",
            "5f8bd38d46e84f5baa37cb1015c74b6f",
            "c3fe0dfa468c4cbdb02ec837faeb6d8d",
            "fdc4543b36ab4556a026346fdca04200",
            "540f4249fa774566b16936516df49695",
            "f46d937f402543d0a25f5f82d19ab4cc",
            "df9721686b7d4851869c12aec930a1d8",
            "cc97b4c2c7584abbb7fd568679c38710",
            "ae8dc3bb16d54570bdcbd53304657d96",
            "794d5553baaa44fca43a46703947ef9b",
            "212aae67d9f64e8c94de7dc620d0a21c",
            "6a55a0ef9e6843b6ae64721b658f0b75",
            "c996a0dfabc8419592e0ab21afee12bc",
            "413c96767dcc40c38dc44f9aff15c360",
            "47a1edde7ec84c25b7eb36a32672664e",
            "c829a81867e8421db30677c03b3a4dba",
            "9efe0b77df3c409bb4404c578f1fdcf2",
            "38a83b7c11204649a062e3ddbcd9997c",
            "cd1c3a9bb389435c94205bcbd54594d4",
            "8c299062ce794c60a2923a478616d2a6",
            "e05634ec135c446cbf27ad897b123f39",
            "087a11b0475d4ad7bc4768cfce5c3e87",
            "8c2c145209d245498cb7c2a865c68ae6",
            "c90952cec0094db28eaa847b122160b2",
            "a6e483ffb68f4c5a9d53b5ac38efa318",
            "6a984d1e0bd14a57b0296164b993a0a7",
            "6da44b05d49b486d8829f482a836e47d",
            "8e06865cb2054cd3aa22c979d50f565d",
            "5a2fbffd09ff4f8c80129048b6cd2a3c",
            "62c839cad88e484185a9b21ce0cab4c2",
            "b7e4453a2a934a4a98bb98841d864ce4",
            "1fa6e3d7361149f49a6788f68b4493ca",
            "03f28ace11d1415e8cda0e02e108628f",
            "020c77af3a4e4c189ad70f6e4a9a188b",
            "f1cdd2d322e445e29da408bbfb434ade",
            "32f8d205d4314a7ca10dbbc6b955ad23",
            "fe3bbc98fd374d46919435300022d370",
            "6b96cc3e7b314369a785a5a834cf249e",
            "7d720d414f3941e98ab969f0a421fd44",
            "352f83477d984754959f17a4f8c4cba6",
            "17a8e1667a4a4e5982849ad40a48eee5",
            "870c1a69cfa3481fa0cde28444af1402",
            "89bbe8a5424e4491842078b17f8a8357",
            "95a903edd0c84d9c9cbe37ed7b7f9e23",
            "da14d032a7cf4b3eb1a5a0b994c186e4",
            "e3671a7028bb43f2943a50151bda7e80",
            "f6d840caef5744b990df9fa3d647402e",
            "0c3ff90cab1f432ea176ac0dfc24ff76",
            "7686ae0d69da4887826a8e269284d70b",
            "2c4295d6da9f4dc69455126ac90a829b",
            "71cb0874116141029295832e76afa17a",
            "f6a469ef7e0040b686df02d8b73a8c10",
            "d802b10541a14a128f8030d58b0fc32d",
            "544c1f46f5604b149d05e254bf8de379",
            "a33281fb0e814d438062e6cb6df5b4db",
            "b1d80e6791a0460fb4ebd7f63079042a",
            "aab67601a85c49bbbd62089aa32539d2",
            "c0d6ce7250c440dda084357cc5376c3c",
            "9029fb869437466ca93a05b1f9ac7c09",
            "528394e74d7e4c29a69c8dde532ca191",
            "7e6016350ee043f384d4e26389c0ed2f",
            "66b963e701b44926b0a7d31c46846f8a",
            "d5f63172944e46868e5906bd0a896882",
            "966fca71f9564af5a7e1bc4b015e11e3",
            "ab30af37d72648e4aa6b939e8c065f8b",
            "aaede3ce0e4d40a78a21d3658792b3f7",
            "f1a0be6357da499a8d82af5ad37826fe",
            "58e8cbd626b64b949c11f728028c9387",
            "de5914c81d524beb9c74aa7b58e8c26a",
            "da3686ed359c4e0fbca81991d0fd9231",
            "04c99016bea1425f8177d885325d494f",
            "6c034c3ff5c14712874919a123ebc3da",
            "2f8fa81c585d40358dc766f4a0609a73",
            "3b5dec85ba26403d856d04aa4f7d1595",
            "ed402644d50b498295ab71a810e4a59c",
            "82c740ffc14f40beb5d0731e525136c2",
            "7fcd503c40144972be58aec891e3491a",
            "698909cdd89a470388ccb7216dc9d5cd",
            "e2299b5abd594a348a3dce8fd68fb569",
            "f3c45617b3254453ab116dd3fd07452b",
            "1ab8b103c1f143dcb2e3ce6ff95eaee6",
            "c8cdc7e2686d4a048d55a6c6f88f1ceb",
            "711e6942b8344b3f80dfedb4774f4305",
            "ab114d7fb3cb4e3ba9378bb264783911",
            "b2e6144408a5458f8e152e09e7772619",
            "4b7b1e412d8a40c29350e44dca05db45",
            "c5d328b033ef4dc591414600a26e51ed",
            "c15434c576494672a4ed9e4ffd40d6c9",
            "11cfee5474ef46c8a7766c26c9a08eed",
            "51efd05809654758a88b02a0a2644ca7",
            "43fee6bd49544605aa0e3f6c7a4c656d",
            "05c4412845dc4361ac9b74d66e4aa99a",
            "c770700fc74549c3a9acbfa8a0e96727",
            "7b81b07dc5a745ecb3db5576d9654ee2",
            "0922bee030c242a092f3aced3d524e39",
            "ffecbc78d1364a8bbdbfc1cb61a08718",
            "76a5ff617266434093e81ca54abc6b7a",
            "025932b9f85c4021a96c8552c863c799",
            "6cadb2165ed244d99cdca12a4ffaaae6",
            "31b8776d95e54b12a26d2cbc00bfd1bc",
            "1b55e6e000114993b1fd266922172cef",
            "116c8d52403f4730a2d4a35c2a55253b",
            "f9cdbc5556b4422daba12d19e734a1ea",
            "1f28f4ab83ee46e4a47ad4d19f710f29",
            "1a5d0c884b114e9f9b29e7017de41892",
            "dff399b9bd5c4a679310e598c1e37b1a",
            "daea7be3f06b43c4b0eb286f8ebb9689",
            "180272e12ef34d4bb0dada902b39a6af",
            "54261b468b814732b48c9684e7844d7d",
            "6ead7b4e292c4b2ab5d52bb4236ba1f6",
            "489c03d597d548c482215a4edc0ca584",
            "6af94e702a9a4605a4e4b1ddabc0d17a",
            "6612f5a0d902460abeae05298f04962e",
            "ca3a697c120d4f0bb5c574107a53655e",
            "b1500c0fd4484047af7f9f678231ddd6",
            "56b5ec44ac9c4f31854a1857089cb961",
            "6d4c00488f944758b185552b94e88030",
            "996a21944deb4140b34d43066b3e7742",
            "60b57b6b076643d89ed24db708b3bdbd",
            "3fd6bfffc8bc4cc28f4d791346914dad",
            "40f921ba893c448491cdc21e4f63e0e9",
            "04398ba449c64a65b5f098cce0dd8148",
            "e927ae992f9343c49083062414c2e35c",
            "ad2c766cc1d24486bb01cf150d2036fb",
            "5b195f2c55c14c63b2af339320dba86e",
            "1a5914d791a243f0b67713638e23dbce",
            "e9d9fce79f9e49e597e1e243a4445c61",
            "615097b27cf54aa4880de3c6ada2cfb3",
            "abf846ebe56742d88f2a279b77c67eec",
            "cf992f5d1b904d88b10003f0101a57d3",
            "7c919df6ffd9411d98c5bb724230f24a",
            "aba76c4b383749b2bd7880717d835139",
            "d732c09a90f34973b774e24f46702e30",
            "c31205472787447dba0c2568d58d4c1f",
            "d3e07d6abcdf40ba8e2c60e059e36512",
            "5a6e4777129f46269c038458506fdba3",
            "1063fdaef6ef4623a0b0ce6108093194",
            "03eb7175d7124fe5bdfa68a35ba12ff0",
            "24544568a7fe4af29eaac532b7f6918c",
            "e0636f5f59e4402d83edc5766999a822",
            "42011bf537384518b4d0bf878e42e5d6",
            "0525167e6bcb4106a4b6cb50e907a54e",
            "2dc33c88d46d4003abb415629ef0af93",
            "0d6846eb4a364bf1ad1a653a55c69b14",
            "462af21ba4e04273abc3fd997c6c3d84",
            "d13a56b75ceb49ac99e73025661533f3",
            "8ab531681b2a42349b46857e5e9fda23",
            "a882e16718e04c5c924e7a23b10791be",
            "14ed6069a97e40cc867d4a4f0c53a117",
            "f18cb1d4a1de4a1c9939a86d48aace57",
            "be8922060520442eb7779f0a155a8efc",
            "0d89f74e7c5b44f4b1cd8c2d3f00023e",
            "7e9613c184324f60bb68bccc627b273f",
            "09bf9d336153429185ac1ea2cc36a954",
            "e6f99a6becd344b28b31365fa7defae2",
            "2801a68448964168abdfed65af03d687",
            "7d46419e9f284a9f8ad0442c93053a1a",
            "e5e44b6d09e2487fb50d523bbb534191",
            "332d150f285b4b9391dc56d9dd0b6957"
          ]
        },
        "id": "erUI5ScGdHIg",
        "outputId": "6119663f-3de2-4f46-8b13-63ebd25f3707"
      },
      "execution_count": 12,
      "outputs": [
        {
          "output_type": "stream",
          "name": "stdout",
          "text": [
            "\n",
            "Running RNN model...\n",
            "\n",
            "==================================================\n",
            "Training RNN Model\n",
            "==================================================\n"
          ]
        },
        {
          "output_type": "display_data",
          "data": {
            "text/plain": [
              "Epoch 1/10 [Train]:   0%|          | 0/358 [00:00<?, ?it/s]"
            ],
            "application/vnd.jupyter.widget-view+json": {
              "version_major": 2,
              "version_minor": 0,
              "model_id": "4f055e18fa9d462cbb55a6135d410983"
            }
          },
          "metadata": {}
        },
        {
          "output_type": "display_data",
          "data": {
            "text/plain": [
              "Epoch 1/10 [Valid]:   0%|          | 0/45 [00:00<?, ?it/s]"
            ],
            "application/vnd.jupyter.widget-view+json": {
              "version_major": 2,
              "version_minor": 0,
              "model_id": "29f7570afb8d4657ba94af1ca76cdee6"
            }
          },
          "metadata": {}
        },
        {
          "output_type": "stream",
          "name": "stdout",
          "text": [
            "Epoch 1/10 | Train Loss: 0.5623, Acc: 0.7124 | Val Loss: 0.4809, Acc: 0.7767\n"
          ]
        },
        {
          "output_type": "display_data",
          "data": {
            "text/plain": [
              "Epoch 2/10 [Train]:   0%|          | 0/358 [00:00<?, ?it/s]"
            ],
            "application/vnd.jupyter.widget-view+json": {
              "version_major": 2,
              "version_minor": 0,
              "model_id": "46e3c2b4fd3f46b9ba1f93d1b0351e54"
            }
          },
          "metadata": {}
        },
        {
          "output_type": "display_data",
          "data": {
            "text/plain": [
              "Epoch 2/10 [Valid]:   0%|          | 0/45 [00:00<?, ?it/s]"
            ],
            "application/vnd.jupyter.widget-view+json": {
              "version_major": 2,
              "version_minor": 0,
              "model_id": "fc76d667bed04d68b04390bbf912e16e"
            }
          },
          "metadata": {}
        },
        {
          "output_type": "stream",
          "name": "stdout",
          "text": [
            "Epoch 2/10 | Train Loss: 0.4145, Acc: 0.8190 | Val Loss: 0.4171, Acc: 0.8146\n"
          ]
        },
        {
          "output_type": "display_data",
          "data": {
            "text/plain": [
              "Epoch 3/10 [Train]:   0%|          | 0/358 [00:00<?, ?it/s]"
            ],
            "application/vnd.jupyter.widget-view+json": {
              "version_major": 2,
              "version_minor": 0,
              "model_id": "b11f7a9a769141788c64899cb3878170"
            }
          },
          "metadata": {}
        },
        {
          "output_type": "display_data",
          "data": {
            "text/plain": [
              "Epoch 3/10 [Valid]:   0%|          | 0/45 [00:00<?, ?it/s]"
            ],
            "application/vnd.jupyter.widget-view+json": {
              "version_major": 2,
              "version_minor": 0,
              "model_id": "2e8bf860efa84fbba726923d942f11cc"
            }
          },
          "metadata": {}
        },
        {
          "output_type": "stream",
          "name": "stdout",
          "text": [
            "Epoch 3/10 | Train Loss: 0.3186, Acc: 0.8687 | Val Loss: 0.4132, Acc: 0.8270\n"
          ]
        },
        {
          "output_type": "display_data",
          "data": {
            "text/plain": [
              "Epoch 4/10 [Train]:   0%|          | 0/358 [00:00<?, ?it/s]"
            ],
            "application/vnd.jupyter.widget-view+json": {
              "version_major": 2,
              "version_minor": 0,
              "model_id": "f46d937f402543d0a25f5f82d19ab4cc"
            }
          },
          "metadata": {}
        },
        {
          "output_type": "display_data",
          "data": {
            "text/plain": [
              "Epoch 4/10 [Valid]:   0%|          | 0/45 [00:00<?, ?it/s]"
            ],
            "application/vnd.jupyter.widget-view+json": {
              "version_major": 2,
              "version_minor": 0,
              "model_id": "9efe0b77df3c409bb4404c578f1fdcf2"
            }
          },
          "metadata": {}
        },
        {
          "output_type": "stream",
          "name": "stdout",
          "text": [
            "Epoch 4/10 | Train Loss: 0.2393, Acc: 0.9080 | Val Loss: 0.4084, Acc: 0.8445\n"
          ]
        },
        {
          "output_type": "display_data",
          "data": {
            "text/plain": [
              "Epoch 5/10 [Train]:   0%|          | 0/358 [00:00<?, ?it/s]"
            ],
            "application/vnd.jupyter.widget-view+json": {
              "version_major": 2,
              "version_minor": 0,
              "model_id": "8e06865cb2054cd3aa22c979d50f565d"
            }
          },
          "metadata": {}
        },
        {
          "output_type": "display_data",
          "data": {
            "text/plain": [
              "Epoch 5/10 [Valid]:   0%|          | 0/45 [00:00<?, ?it/s]"
            ],
            "application/vnd.jupyter.widget-view+json": {
              "version_major": 2,
              "version_minor": 0,
              "model_id": "7d720d414f3941e98ab969f0a421fd44"
            }
          },
          "metadata": {}
        },
        {
          "output_type": "stream",
          "name": "stdout",
          "text": [
            "Epoch 5/10 | Train Loss: 0.1776, Acc: 0.9340 | Val Loss: 0.4524, Acc: 0.8456\n"
          ]
        },
        {
          "output_type": "display_data",
          "data": {
            "text/plain": [
              "Epoch 6/10 [Train]:   0%|          | 0/358 [00:00<?, ?it/s]"
            ],
            "application/vnd.jupyter.widget-view+json": {
              "version_major": 2,
              "version_minor": 0,
              "model_id": "2c4295d6da9f4dc69455126ac90a829b"
            }
          },
          "metadata": {}
        },
        {
          "output_type": "display_data",
          "data": {
            "text/plain": [
              "Epoch 6/10 [Valid]:   0%|          | 0/45 [00:00<?, ?it/s]"
            ],
            "application/vnd.jupyter.widget-view+json": {
              "version_major": 2,
              "version_minor": 0,
              "model_id": "7e6016350ee043f384d4e26389c0ed2f"
            }
          },
          "metadata": {}
        },
        {
          "output_type": "stream",
          "name": "stdout",
          "text": [
            "Epoch 6/10 | Train Loss: 0.1291, Acc: 0.9539 | Val Loss: 0.5368, Acc: 0.8421\n"
          ]
        },
        {
          "output_type": "display_data",
          "data": {
            "text/plain": [
              "Epoch 7/10 [Train]:   0%|          | 0/358 [00:00<?, ?it/s]"
            ],
            "application/vnd.jupyter.widget-view+json": {
              "version_major": 2,
              "version_minor": 0,
              "model_id": "6c034c3ff5c14712874919a123ebc3da"
            }
          },
          "metadata": {}
        },
        {
          "output_type": "display_data",
          "data": {
            "text/plain": [
              "Epoch 7/10 [Valid]:   0%|          | 0/45 [00:00<?, ?it/s]"
            ],
            "application/vnd.jupyter.widget-view+json": {
              "version_major": 2,
              "version_minor": 0,
              "model_id": "711e6942b8344b3f80dfedb4774f4305"
            }
          },
          "metadata": {}
        },
        {
          "output_type": "stream",
          "name": "stdout",
          "text": [
            "Epoch 7/10 | Train Loss: 0.0884, Acc: 0.9700 | Val Loss: 0.6056, Acc: 0.8436\n"
          ]
        },
        {
          "output_type": "display_data",
          "data": {
            "text/plain": [
              "Epoch 8/10 [Train]:   0%|          | 0/358 [00:00<?, ?it/s]"
            ],
            "application/vnd.jupyter.widget-view+json": {
              "version_major": 2,
              "version_minor": 0,
              "model_id": "7b81b07dc5a745ecb3db5576d9654ee2"
            }
          },
          "metadata": {}
        },
        {
          "output_type": "display_data",
          "data": {
            "text/plain": [
              "Epoch 8/10 [Valid]:   0%|          | 0/45 [00:00<?, ?it/s]"
            ],
            "application/vnd.jupyter.widget-view+json": {
              "version_major": 2,
              "version_minor": 0,
              "model_id": "1a5d0c884b114e9f9b29e7017de41892"
            }
          },
          "metadata": {}
        },
        {
          "output_type": "stream",
          "name": "stdout",
          "text": [
            "Epoch 8/10 | Train Loss: 0.0585, Acc: 0.9807 | Val Loss: 0.7453, Acc: 0.8422\n"
          ]
        },
        {
          "output_type": "display_data",
          "data": {
            "text/plain": [
              "Epoch 9/10 [Train]:   0%|          | 0/358 [00:00<?, ?it/s]"
            ],
            "application/vnd.jupyter.widget-view+json": {
              "version_major": 2,
              "version_minor": 0,
              "model_id": "56b5ec44ac9c4f31854a1857089cb961"
            }
          },
          "metadata": {}
        },
        {
          "output_type": "display_data",
          "data": {
            "text/plain": [
              "Epoch 9/10 [Valid]:   0%|          | 0/45 [00:00<?, ?it/s]"
            ],
            "application/vnd.jupyter.widget-view+json": {
              "version_major": 2,
              "version_minor": 0,
              "model_id": "e9d9fce79f9e49e597e1e243a4445c61"
            }
          },
          "metadata": {}
        },
        {
          "output_type": "stream",
          "name": "stdout",
          "text": [
            "Epoch 9/10 | Train Loss: 0.0399, Acc: 0.9866 | Val Loss: 0.9135, Acc: 0.8414\n"
          ]
        },
        {
          "output_type": "display_data",
          "data": {
            "text/plain": [
              "Epoch 10/10 [Train]:   0%|          | 0/358 [00:00<?, ?it/s]"
            ],
            "application/vnd.jupyter.widget-view+json": {
              "version_major": 2,
              "version_minor": 0,
              "model_id": "03eb7175d7124fe5bdfa68a35ba12ff0"
            }
          },
          "metadata": {}
        },
        {
          "output_type": "display_data",
          "data": {
            "text/plain": [
              "Epoch 10/10 [Valid]:   0%|          | 0/45 [00:00<?, ?it/s]"
            ],
            "application/vnd.jupyter.widget-view+json": {
              "version_major": 2,
              "version_minor": 0,
              "model_id": "14ed6069a97e40cc867d4a4f0c53a117"
            }
          },
          "metadata": {}
        },
        {
          "output_type": "stream",
          "name": "stdout",
          "text": [
            "Epoch 10/10 | Train Loss: 0.0262, Acc: 0.9918 | Val Loss: 1.1036, Acc: 0.8421\n",
            "Training completed in 234.64 seconds\n"
          ]
        },
        {
          "output_type": "stream",
          "name": "stderr",
          "text": [
            "<ipython-input-7-0e137c00bfb7>:81: FutureWarning: You are using `torch.load` with `weights_only=False` (the current default value), which uses the default pickle module implicitly. It is possible to construct malicious pickle data which will execute arbitrary code during unpickling (See https://github.com/pytorch/pytorch/blob/main/SECURITY.md#untrusted-models for more details). In a future release, the default value for `weights_only` will be flipped to `True`. This limits the functions that could be executed during unpickling. Arbitrary objects will no longer be allowed to be loaded via this mode unless they are explicitly allowlisted by the user via `torch.serialization.add_safe_globals`. We recommend you start setting `weights_only=True` for any use case where you don't have full control of the loaded file. Please open an issue on GitHub for any issues related to this experimental feature.\n",
            "  model.load_state_dict(torch.load(f\"{model_name}_best.pt\"))\n"
          ]
        },
        {
          "output_type": "stream",
          "name": "stdout",
          "text": [
            "\n",
            "RNN Results:\n",
            "Accuracy: 0.8456\n",
            "Precision: 0.8048\n",
            "Recall: 0.8922\n",
            "F1 Score: 0.8463\n",
            "F1 Squared: 0.7162\n",
            "AUC: 0.9239\n"
          ]
        },
        {
          "output_type": "display_data",
          "data": {
            "text/plain": [
              "<Figure size 800x600 with 1 Axes>"
            ],
            "image/png": "[encoded data removed]"
          },
          "metadata": {}
        },
        {
          "output_type": "display_data",
          "data": {
            "text/plain": [
              "<Figure size 1200x500 with 2 Axes>"
            ],
            "image/png": "[encoded data removed]"
          },
          "metadata": {}
        }
      ]
    },
    {
      "cell_type": "code",
      "source": [
        "# Run LSTM model\n",
        "print(\"\\nRunning LSTM model...\")\n",
        "results['lstm'] = run_model('lstm')"
      ],
      "metadata": {
        "colab": {
          "base_uri": "https://localhost:8080/",
          "height": 1000,
          "referenced_widgets": [
            "6a549221e9894afe9d6bb2abe8f231fa",
            "9db5b5fdf58d4f7db9ae7b24bff185fd",
            "5e728b414f234548aff59e1bdf76ef8a",
            "52b57513f9814fba8e8a32b4740e8501",
            "cd7f2e1c4faa461b8a3cfeb4ad32b329",
            "1bd44c24d06c4049a6a615bb772fc7fe",
            "e22adf148ed04e1a922fdd5f10a09d27",
            "7cecf6d6976141dea1b0212184c62de1",
            "4cafc97a4d1544f7adfd25db319f7921",
            "cc717d3bc8644eaaa1cb5310911a48e6",
            "f271b8363ed94094a2a2f16fd23474a4",
            "cacb3f475cf542a797a3d93234d98354",
            "965dc881751a4749b194e66aca16f2f1",
            "fc4a110ad2e24f36a0b634f4d1fcde5f",
            "1925b2d7c95842839bf9e6d6ec13495b",
            "df811138a3a24770bebb73150d1d66cf",
            "332a72b04569424eab1bee278bde0cf8",
            "29e901656c694bc088d3ab5d5a05339e",
            "7c898018b87740d189888933859e60d5",
            "f44da4f231b84b7296d74b6a29bf680e",
            "5722840a265d4d3dafbc30d30b5d42d4",
            "31493f400c3344f4adb40b47e87dd6a1",
            "9da498dde29c4191a924ad9d1e005971",
            "62843625f418437895d51d57c037d774",
            "110a6563d8e44eda8f6c8e1baf5e6f41",
            "27ad428868da43b5927047e8298567b9",
            "60cb97878ec541a5836c7722daf24968",
            "630df3e230b444139148e7df40812d99",
            "871794260d8a47b78ecaeaf8b03b6f79",
            "6d20a756e76a4c9cb129a12d56aac81e",
            "86f94baa089b404184977339cf7c05c5",
            "a8079d627e0e41d5922acef974880005",
            "cff4b50809ce43e58f1eeda561edf244",
            "26d0a4cfd9264d69a386906035ded608",
            "b39a4e1e1a40497299c0ad2ff5b64ce2",
            "f9ef791bd2ee44b6acafbd29498cb4c1",
            "80f09ca886184fd19ec61738c1c84c31",
            "c408fed460eb4369aa8df4144c8c489c",
            "00ed82b7a18a4e3db4d74acf15ed1806",
            "39a201e0d97743ab879d19295e9f57fe",
            "3870a8879b5f4e4da236d966e17c7b82",
            "547817b2f53e4d07abeda58f4292144f",
            "a2f83bc641ac4f83915763b06d0f7343",
            "28d4e4db219748f1a924276bb2431ada",
            "6b7e88f7dc6347518774b6141ad89226",
            "9b8c63eafa8f495ba52f76fdaf7d228c",
            "dff41381767d45d7a8e48c0b70210057",
            "367d4e81883e48a388a0230e13b318c8",
            "79e72322fb12411c946343a275f6a20c",
            "39fa9062df5b4efcb529b10839aa59d4",
            "f8145a4a4af248798f84884981496241",
            "4cf5e10c34fe401faf5988d2b59e28d9",
            "2a65f593ea0f402b9d382a370a117190",
            "3ec5600dcf2d48009b52ba5154cc8935",
            "4c630f809ce14d0daca68117ca7ea0c1",
            "8c1a2663f8ed43eb913dc6f81bc7be03",
            "3955e27473084850bdcf48ae65a2eef8",
            "e30cd402ee7b4ecd8d53db48a90e4ff2",
            "e9f2315070a641ba9f4782142ade69cc",
            "09b8b9217bba49ab84d0dcd2d718227f",
            "9aca9c6cf4ce401ca71e8d4af231b802",
            "79942ae5d4c94c59bf32cf821f75a5c8",
            "fcce6497ff3b44b0a16808f73da7fd08",
            "4a547e92bacf4357ae49db99ca471d7d",
            "d1b5f882ab7045c3b0c4f22d6649e358",
            "0f733e1a6b5e42b584618a0e7275de06",
            "3dee7b2dc03e4e99b41775ef60dd8666",
            "34709097c7784b5da98ee9a13337998a",
            "46b7a95a67d04d73812087155e283587",
            "2647a056f3494476a6e4fc58e35a092f",
            "c7e0f57974aa4500be0aa60d74237497",
            "3c2f8f8d5cd84f1b919999e4aa001051",
            "1d3784d612744c9ea49ea78a6403dcf5",
            "b93cc8cca7b74e248dc04feefc348d3f",
            "c840cecdc4854a8bb7fac283b24c88e9",
            "e43885f1be614dd0b29ab8ce56337678",
            "3dfce9f95f5d482085247524a48f4f62",
            "efef91880a694ab182536b6e70698f87",
            "d0a35b803edb41ff832dc1a1a81a6791",
            "5088025656ed4da2a258f4903527e9be",
            "e790efd9a8104468a266e1670c73ff8d",
            "1709d6328f7e4090a7f9b803b97792e3",
            "0c6d9091b6e245c19e046d1a0066f6ef",
            "da55b0232d7b48d180159e3a4488f3ca",
            "4b6b7bd26d3e460294e29bfb532ccdef",
            "b8f20cb8adc648f7b4b94a19b8568a10",
            "a81ea6dca63740558023c6e8d08299b3",
            "8b1aaeecf1034c9a932e220d2363295f",
            "9a46e5e472d445cf9a7436c28b2d4d90",
            "8be8e4ca5cec4b1bbf8e7d108993a5dd",
            "4ad94524e51744f98731dd643ec3074e",
            "2f7e8abc81fe4e2fbd8579b902213c40",
            "9adcf1264f154e8480b606948ce0b17c",
            "7bc389a6960748ac86868a4c49218a9f",
            "a48350a060d846099247082ae96285b4",
            "6ec3840b53784cb6818c54e62f025ee6",
            "1f9b6bb3300045958a4d70139d3cffd0",
            "ff2fdd0fee1d45529f80b4837a3b1993",
            "541c4a7471b948fb82cca7a711a75ba1",
            "66dcb69aa9d14b268474d63e53e8d0e1",
            "74721882f8bb4fdeb04d7a3c11bc0683",
            "129b85f02e864536a8a88bf52220d466",
            "a5f386580f554d308c8db8f123633575",
            "5bcc19ca52894b4eb43e1a91a570ecd9",
            "1a823761e06040dda014760b117756f7",
            "6b5fc123c54047f2b1a162056db98be6",
            "ac53a5b4279840d6be43d03146a9158c",
            "4c16c4a152f04d579f4d465b3f6f1cb1",
            "7360160bfc7942c081df707a2493e96a",
            "13ab144787474847856c8b15545e8620",
            "9de7d181b9434d2ab563fca2931e4b32",
            "0210bdea6d404942a3fec3b4cf4984a0",
            "2d8fa4a78e404705bc324646899b3cbc",
            "dcf25d9dfc3a4300b4a7818594201a90",
            "5f5a47ed65e2423486b05f81dc285f7b",
            "c69d4ade226344b8a907cad16d7c45ab",
            "a7dd713b765e4e0ca39b5198da904dd1",
            "8d91dda318f44d85a21a40461dff69c6",
            "dce19168b0e948d6b59ba91733db2165",
            "289dd09fdbf8458a91fa7d4ed508fa29",
            "e905fa76defe469ebd95f7ec4610d843",
            "f908e31bc4ad4d48a9bf0649ceb87e97",
            "1531ea8cd1cc4b91ab2f53d0d8683de5",
            "9c3bd71d6f854f688adbdf2ee698d0aa",
            "2c5ca9bd60b94e99afec090b37514899",
            "967c096d01674769ba77362a11f42d5c",
            "72f29ab269934472810017852649195a",
            "e001729a1bcf4876a47539757be9a7f3",
            "7dc224b4db8846838698a3950b23fdeb",
            "8f6ffe95108546c0b5081dccbfb6ba75",
            "1cc15fce11a24d92b9e1e885043108ba",
            "877ec59dcaf2419da3b99d57a2448de6",
            "5073102554ae4e36831273b831c9434e",
            "2de8194fb935431481a3d8638346b351",
            "a3a33918494a4e479bea2492c1963fba",
            "e9baca999e6b4b26b82447248888e945",
            "10c6214d25d44b49bcc43675f0115c9e",
            "59355b5f13b141d4a445e643dde3b335",
            "dd30aa05698f49e6bbfdc1538de8b3f3",
            "d6553b801d4a4fbca8e7bcc9e65ec9f2",
            "d49cdced34474b5e850e7dbc5fd9f00c",
            "c6c3ec0ffb844e59bb94eb0c1a2e1e0a",
            "7e8b989e0b3841878d6beb9b05a95194",
            "8574a46cd68f4e658b61745358596952",
            "83a9de3b6aa3458785da792b73c9b5f4",
            "aeac0f0c75bb41bd95426a0c7f7af637",
            "71be6a6edcb041f29feb36748c0a06b9",
            "667290526870449da1c5485884c1c3a7",
            "8791bfb9a8d04b9aa34637babeb67522",
            "e0471c0c659d42039c494c485f25a03d",
            "fbbeea2802424fb780471e76e7af0f12",
            "5c8c1e26bb24478ba5b1bd6b8a570200",
            "ef79abaf014f4648b5fa328ebbc2e395",
            "681c4b2d83104b3b8283e567c2243dd7",
            "29880d079ebd4be5a306307c2ecc8630",
            "2d8f9f648e9d4a0d994ee4c8bc9ada50",
            "1720263ec0984db7832b4cb147f46be0",
            "eb39f8ee667c40f080cc14fbc7f12ad8",
            "b1e7bdce1ad04965b224cb42d41372d0",
            "3a1180ec504645e5b6dfb4bda5746102",
            "8ead3e575a62401fadf1fcd3c1e8bbe5",
            "f18eb8ada26347c08858c966f400b4e1",
            "396aeae0d74c462e8eaf9369c1513f77",
            "d99f64941d9841d7b905a586d9654fd4",
            "361fcdc73a374c6cada582dda113a736",
            "06507b2f6699486f8ed275307e3ebc2b",
            "006a87343176475f9511263fad3ab38d",
            "7f59566f967b4a62ad44a416365062e6",
            "2092b81a756f42c9aa22f11f664f2526",
            "bbcd6bce92fd411f8b0abd8a7459eb02",
            "c82fecaaf2114c57b02c64fce5649a50",
            "30d3be5b5b3c4ecc906e3d6379bf3937",
            "61134ccc30fe47769d88b703209a62f3",
            "a0713f77d47941e19656e4200eae0c90",
            "c365fd7df4fe483698e489b18c3dee4b",
            "cb19d0555d3c4d07a55aafd6df9725fd",
            "9f591db9b2bd4b09ac436ee3aed08adc",
            "bff123a1d9b7424ba0a71234156369ca",
            "838aa496508e46d6b65e78c1c1ed47ee",
            "dfeda3144f1048d79a812c45169c44a8",
            "10ded42322ea4c0e93d72d66d978e7be",
            "c7d0d9adccd04b5aa1c3aaa834eb9159",
            "3d754120da4a49cb97e3b38d42f69eb3",
            "087988de08ab4676b23b4d34944f6619",
            "47377f5e8f0c49f59bf07f3e149e9629",
            "ae43768e994f4247b15b4dec35a92507",
            "af652a0cc5b04e5aa2c5671517189b24",
            "7b5f6ef4656f4e8381c7608f5e400b91",
            "081863736b354bda97aaf2a41a1c5e34",
            "973c6e4ea6fc433f8f55d07518bd8e7d",
            "896f96c9416a4104aae9115c596b8cff",
            "3eed91337a814379b725bbad120e622c",
            "48d9568849324360b6860f834b31594c",
            "bbfe4260a46046178dc18fe77fb8fb13",
            "c4764408246240cca93af8eb1304339e",
            "bd46356ec36d4e34b305c42baf334029",
            "80d85d9609804f26a0b2bdeae2e29828",
            "8cd38c7f17714caaab106a3286eb1592",
            "f229131fa1044ac8a544bdd6557ea245",
            "035371e94f6e42aa9dae69ec63e27641",
            "ec2f261b78674628bcf0a2527a41f60a",
            "a799bcc85d8b4880bdb683f7f49decf6",
            "7b563a5d238c48b698eb69beba3b574c",
            "85521581190b4847b3111957c4f2ed0c",
            "3fead487ca99488397f694eeac3194d8",
            "c986ca93d769459badb560572d58c2d9",
            "19eb7b00970647a784fb8078dd047350",
            "f11f336741224c5aa653c43c76395122",
            "4a2d8e1afb254d48af6368a2c1565569",
            "d92dee27388d4972a2535b1b58cbc938",
            "a3929e2b534b48ffb54967d3df6f9c45",
            "63fc94bdd21749efadd4bdb0aa91a357",
            "2f28241bd5794da3b2ff1621df631f14",
            "236c4b79495c4a31ad216e7fe198d202",
            "8a494dcbbdb54ddea07c016df6463d86",
            "e3da1ed98cb34d1c859f2ac9c5bdf334",
            "e64636e5d20344d3bd27a158d19cbf10",
            "ddfb5b4caad24217a5d41d41abb213cb",
            "a6bef573dd1640f89037cbd7cdc59873",
            "d22bd93f53a4426b98008ffa7e6605ce"
          ]
        },
        "id": "h9s-Oum-kBfZ",
        "outputId": "56108cc8-311c-41e6-8eb7-0ae337dfb7a3"
      },
      "execution_count": 13,
      "outputs": [
        {
          "output_type": "stream",
          "name": "stdout",
          "text": [
            "\n",
            "Running LSTM model...\n",
            "\n",
            "==================================================\n",
            "Training LSTM Model\n",
            "==================================================\n"
          ]
        },
        {
          "output_type": "display_data",
          "data": {
            "text/plain": [
              "Epoch 1/10 [Train]:   0%|          | 0/358 [00:00<?, ?it/s]"
            ],
            "application/vnd.jupyter.widget-view+json": {
              "version_major": 2,
              "version_minor": 0,
              "model_id": "6a549221e9894afe9d6bb2abe8f231fa"
            }
          },
          "metadata": {}
        },
        {
          "output_type": "display_data",
          "data": {
            "text/plain": [
              "Epoch 1/10 [Valid]:   0%|          | 0/45 [00:00<?, ?it/s]"
            ],
            "application/vnd.jupyter.widget-view+json": {
              "version_major": 2,
              "version_minor": 0,
              "model_id": "cacb3f475cf542a797a3d93234d98354"
            }
          },
          "metadata": {}
        },
        {
          "output_type": "stream",
          "name": "stdout",
          "text": [
            "Epoch 1/10 | Train Loss: 0.5060, Acc: 0.7543 | Val Loss: 0.4375, Acc: 0.8066\n"
          ]
        },
        {
          "output_type": "display_data",
          "data": {
            "text/plain": [
              "Epoch 2/10 [Train]:   0%|          | 0/358 [00:00<?, ?it/s]"
            ],
            "application/vnd.jupyter.widget-view+json": {
              "version_major": 2,
              "version_minor": 0,
              "model_id": "9da498dde29c4191a924ad9d1e005971"
            }
          },
          "metadata": {}
        },
        {
          "output_type": "display_data",
          "data": {
            "text/plain": [
              "Epoch 2/10 [Valid]:   0%|          | 0/45 [00:00<?, ?it/s]"
            ],
            "application/vnd.jupyter.widget-view+json": {
              "version_major": 2,
              "version_minor": 0,
              "model_id": "26d0a4cfd9264d69a386906035ded608"
            }
          },
          "metadata": {}
        },
        {
          "output_type": "stream",
          "name": "stdout",
          "text": [
            "Epoch 2/10 | Train Loss: 0.3303, Acc: 0.8633 | Val Loss: 0.3873, Acc: 0.8340\n"
          ]
        },
        {
          "output_type": "display_data",
          "data": {
            "text/plain": [
              "Epoch 3/10 [Train]:   0%|          | 0/358 [00:00<?, ?it/s]"
            ],
            "application/vnd.jupyter.widget-view+json": {
              "version_major": 2,
              "version_minor": 0,
              "model_id": "6b7e88f7dc6347518774b6141ad89226"
            }
          },
          "metadata": {}
        },
        {
          "output_type": "display_data",
          "data": {
            "text/plain": [
              "Epoch 3/10 [Valid]:   0%|          | 0/45 [00:00<?, ?it/s]"
            ],
            "application/vnd.jupyter.widget-view+json": {
              "version_major": 2,
              "version_minor": 0,
              "model_id": "8c1a2663f8ed43eb913dc6f81bc7be03"
            }
          },
          "metadata": {}
        },
        {
          "output_type": "stream",
          "name": "stdout",
          "text": [
            "Epoch 3/10 | Train Loss: 0.2146, Acc: 0.9167 | Val Loss: 0.3738, Acc: 0.8464\n"
          ]
        },
        {
          "output_type": "display_data",
          "data": {
            "text/plain": [
              "Epoch 4/10 [Train]:   0%|          | 0/358 [00:00<?, ?it/s]"
            ],
            "application/vnd.jupyter.widget-view+json": {
              "version_major": 2,
              "version_minor": 0,
              "model_id": "3dee7b2dc03e4e99b41775ef60dd8666"
            }
          },
          "metadata": {}
        },
        {
          "output_type": "display_data",
          "data": {
            "text/plain": [
              "Epoch 4/10 [Valid]:   0%|          | 0/45 [00:00<?, ?it/s]"
            ],
            "application/vnd.jupyter.widget-view+json": {
              "version_major": 2,
              "version_minor": 0,
              "model_id": "efef91880a694ab182536b6e70698f87"
            }
          },
          "metadata": {}
        },
        {
          "output_type": "stream",
          "name": "stdout",
          "text": [
            "Epoch 4/10 | Train Loss: 0.1217, Acc: 0.9568 | Val Loss: 0.4767, Acc: 0.8512\n"
          ]
        },
        {
          "output_type": "display_data",
          "data": {
            "text/plain": [
              "Epoch 5/10 [Train]:   0%|          | 0/358 [00:00<?, ?it/s]"
            ],
            "application/vnd.jupyter.widget-view+json": {
              "version_major": 2,
              "version_minor": 0,
              "model_id": "9a46e5e472d445cf9a7436c28b2d4d90"
            }
          },
          "metadata": {}
        },
        {
          "output_type": "display_data",
          "data": {
            "text/plain": [
              "Epoch 5/10 [Valid]:   0%|          | 0/45 [00:00<?, ?it/s]"
            ],
            "application/vnd.jupyter.widget-view+json": {
              "version_major": 2,
              "version_minor": 0,
              "model_id": "66dcb69aa9d14b268474d63e53e8d0e1"
            }
          },
          "metadata": {}
        },
        {
          "output_type": "stream",
          "name": "stdout",
          "text": [
            "Epoch 5/10 | Train Loss: 0.0615, Acc: 0.9801 | Val Loss: 0.5622, Acc: 0.8461\n"
          ]
        },
        {
          "output_type": "display_data",
          "data": {
            "text/plain": [
              "Epoch 6/10 [Train]:   0%|          | 0/358 [00:00<?, ?it/s]"
            ],
            "application/vnd.jupyter.widget-view+json": {
              "version_major": 2,
              "version_minor": 0,
              "model_id": "9de7d181b9434d2ab563fca2931e4b32"
            }
          },
          "metadata": {}
        },
        {
          "output_type": "display_data",
          "data": {
            "text/plain": [
              "Epoch 6/10 [Valid]:   0%|          | 0/45 [00:00<?, ?it/s]"
            ],
            "application/vnd.jupyter.widget-view+json": {
              "version_major": 2,
              "version_minor": 0,
              "model_id": "f908e31bc4ad4d48a9bf0649ceb87e97"
            }
          },
          "metadata": {}
        },
        {
          "output_type": "stream",
          "name": "stdout",
          "text": [
            "Epoch 6/10 | Train Loss: 0.0307, Acc: 0.9900 | Val Loss: 0.7330, Acc: 0.8433\n"
          ]
        },
        {
          "output_type": "display_data",
          "data": {
            "text/plain": [
              "Epoch 7/10 [Train]:   0%|          | 0/358 [00:00<?, ?it/s]"
            ],
            "application/vnd.jupyter.widget-view+json": {
              "version_major": 2,
              "version_minor": 0,
              "model_id": "5073102554ae4e36831273b831c9434e"
            }
          },
          "metadata": {}
        },
        {
          "output_type": "display_data",
          "data": {
            "text/plain": [
              "Epoch 7/10 [Valid]:   0%|          | 0/45 [00:00<?, ?it/s]"
            ],
            "application/vnd.jupyter.widget-view+json": {
              "version_major": 2,
              "version_minor": 0,
              "model_id": "8574a46cd68f4e658b61745358596952"
            }
          },
          "metadata": {}
        },
        {
          "output_type": "stream",
          "name": "stdout",
          "text": [
            "Epoch 7/10 | Train Loss: 0.0113, Acc: 0.9962 | Val Loss: 1.0021, Acc: 0.8519\n"
          ]
        },
        {
          "output_type": "display_data",
          "data": {
            "text/plain": [
              "Epoch 8/10 [Train]:   0%|          | 0/358 [00:00<?, ?it/s]"
            ],
            "application/vnd.jupyter.widget-view+json": {
              "version_major": 2,
              "version_minor": 0,
              "model_id": "29880d079ebd4be5a306307c2ecc8630"
            }
          },
          "metadata": {}
        },
        {
          "output_type": "display_data",
          "data": {
            "text/plain": [
              "Epoch 8/10 [Valid]:   0%|          | 0/45 [00:00<?, ?it/s]"
            ],
            "application/vnd.jupyter.widget-view+json": {
              "version_major": 2,
              "version_minor": 0,
              "model_id": "06507b2f6699486f8ed275307e3ebc2b"
            }
          },
          "metadata": {}
        },
        {
          "output_type": "stream",
          "name": "stdout",
          "text": [
            "Epoch 8/10 | Train Loss: 0.0064, Acc: 0.9982 | Val Loss: 1.0932, Acc: 0.8470\n"
          ]
        },
        {
          "output_type": "display_data",
          "data": {
            "text/plain": [
              "Epoch 9/10 [Train]:   0%|          | 0/358 [00:00<?, ?it/s]"
            ],
            "application/vnd.jupyter.widget-view+json": {
              "version_major": 2,
              "version_minor": 0,
              "model_id": "9f591db9b2bd4b09ac436ee3aed08adc"
            }
          },
          "metadata": {}
        },
        {
          "output_type": "display_data",
          "data": {
            "text/plain": [
              "Epoch 9/10 [Valid]:   0%|          | 0/45 [00:00<?, ?it/s]"
            ],
            "application/vnd.jupyter.widget-view+json": {
              "version_major": 2,
              "version_minor": 0,
              "model_id": "7b5f6ef4656f4e8381c7608f5e400b91"
            }
          },
          "metadata": {}
        },
        {
          "output_type": "stream",
          "name": "stdout",
          "text": [
            "Epoch 9/10 | Train Loss: 0.0133, Acc: 0.9961 | Val Loss: 1.1249, Acc: 0.8443\n"
          ]
        },
        {
          "output_type": "display_data",
          "data": {
            "text/plain": [
              "Epoch 10/10 [Train]:   0%|          | 0/358 [00:00<?, ?it/s]"
            ],
            "application/vnd.jupyter.widget-view+json": {
              "version_major": 2,
              "version_minor": 0,
              "model_id": "f229131fa1044ac8a544bdd6557ea245"
            }
          },
          "metadata": {}
        },
        {
          "output_type": "display_data",
          "data": {
            "text/plain": [
              "Epoch 10/10 [Valid]:   0%|          | 0/45 [00:00<?, ?it/s]"
            ],
            "application/vnd.jupyter.widget-view+json": {
              "version_major": 2,
              "version_minor": 0,
              "model_id": "d92dee27388d4972a2535b1b58cbc938"
            }
          },
          "metadata": {}
        },
        {
          "output_type": "stream",
          "name": "stdout",
          "text": [
            "Epoch 10/10 | Train Loss: 0.0120, Acc: 0.9962 | Val Loss: 1.1324, Acc: 0.8438\n",
            "Training completed in 530.74 seconds\n"
          ]
        },
        {
          "output_type": "stream",
          "name": "stderr",
          "text": [
            "<ipython-input-7-0e137c00bfb7>:81: FutureWarning: You are using `torch.load` with `weights_only=False` (the current default value), which uses the default pickle module implicitly. It is possible to construct malicious pickle data which will execute arbitrary code during unpickling (See https://github.com/pytorch/pytorch/blob/main/SECURITY.md#untrusted-models for more details). In a future release, the default value for `weights_only` will be flipped to `True`. This limits the functions that could be executed during unpickling. Arbitrary objects will no longer be allowed to be loaded via this mode unless they are explicitly allowlisted by the user via `torch.serialization.add_safe_globals`. We recommend you start setting `weights_only=True` for any use case where you don't have full control of the loaded file. Please open an issue on GitHub for any issues related to this experimental feature.\n",
            "  model.load_state_dict(torch.load(f\"{model_name}_best.pt\"))\n"
          ]
        },
        {
          "output_type": "stream",
          "name": "stdout",
          "text": [
            "\n",
            "LSTM Results:\n",
            "Accuracy: 0.8519\n",
            "Precision: 0.8413\n",
            "Recall: 0.8493\n",
            "F1 Score: 0.8453\n",
            "F1 Squared: 0.7145\n",
            "AUC: 0.9275\n"
          ]
        },
        {
          "output_type": "display_data",
          "data": {
            "text/plain": [
              "<Figure size 800x600 with 1 Axes>"
            ],
            "image/png": "[encoded data removed]"
          },
          "metadata": {}
        },
        {
          "output_type": "display_data",
          "data": {
            "text/plain": [
              "<Figure size 1200x500 with 2 Axes>"
            ],
            "image/png": "[encoded data removed]"
          },
          "metadata": {}
        }
      ]
    },
    {
      "cell_type": "code",
      "source": [
        "# Run GRU model\n",
        "print(\"\\nRunning GRU model...\")\n",
        "results['gru'] = run_model('gru')\n"
      ],
      "metadata": {
        "colab": {
          "base_uri": "https://localhost:8080/",
          "height": 1000,
          "referenced_widgets": [
            "576533d683c045b6a8b9a1f8a702a806",
            "c70e097f78ce43798074ca9cbe35713f",
            "d1d7ef494a3141eca12a334fab80f05d",
            "24f389a126354ba8a3bf6705d2e6fa87",
            "f5fb7a67df8543dab2c335058566e9a9",
            "5f57c9d2700747ce9946c707c0fcc7fc",
            "ad918b54ab7041698e7d54679a6c3538",
            "3c82e014723c4875acbfdf423a89828e",
            "8e17c07fdd39448fb318062c0872725a",
            "6a24134ff1f84bd6ab7b39e12e025a60",
            "b0fe165cfefa44f7850bbd55cb56311b",
            "020c4103615c475e84352befc5f3303a",
            "dbb5069c62e94a34bb739da5418b1683",
            "771244bba61d4c8dacb3e0e32f0e83b3",
            "4131a230a9c04fa4942bff8403a14ea9",
            "7664d9d0e7d848f79ef0fca98255efc4",
            "1a242c5d23a440f2b28722450ac7ba62",
            "9965a5ce8ef942a4b6a20bb1617630bf",
            "bf40bba6f56a4a13b6784311b03b9a58",
            "908d63597421446f8dd230b906b12dc3",
            "9b46486d88834762b5fde772147f4cd6",
            "da4af318a6a244cf8596ffe3f5199bac",
            "d9efc8a095e84ec3b60e94f5a71342b3",
            "2c714480a71e4f7d96ca522a96f665db",
            "fbd65d9438f34ff09f41ede896747b79",
            "5d198082b8cf4ffba0412730090072dc",
            "43aa096f3a2b4df4a7b0725535437780",
            "020509c9a13e4f229b83592ea492bf91",
            "bddaf0657cb5488aba59d6474e2cd5eb",
            "1c589d5bd705455fab05b5997f9280b3",
            "5b5fc8fdf43d412e862c731898e99e8d",
            "74c91083277c42eeb4b821a023784e91",
            "4d45aa73aca14d56b4a3208917de0b05",
            "b3b028c58f36489ca27f80dbfef6e695",
            "070d574f12674ca2bb7e3a65e40f2824",
            "1adb605dd7b048d79609b7f8b0f76bb0",
            "6ef2daa1ab67446b86d9e463070a5b66",
            "5fca557cba4445d0afdcf8da7dd37808",
            "2eaad30350e44985be4c4ab2f1e56198",
            "c01fbfa00c4741d6906166930328a152",
            "34343effcc6b46bdbbf425ffb6d0e287",
            "bd725b7e2ffa45839821e1ac3729eeb6",
            "7834ec44b4994f58a23858292471556b",
            "79037d203a374d79baae9d88f4ac3097",
            "2ffae4574a3946798c015631e1b5b26a",
            "328d7798b94a4b7bb6dcb5128057500e",
            "dadf10d889db4fb99052437558d2e6db",
            "83a8067eaf4c40779af2528eaee56b54",
            "75c07b8c31fa4c13ade2f512391c5ef9",
            "3d13036c04e142988cf8e87f0ab1692e",
            "4f2e5045e2ae4847a7b8ed41bb2e2e01",
            "ff79562ef00d4bb89468ee8d94e93737",
            "e5567e1becfb449ba1c1b85b2d4d8e69",
            "f430194cda0549678c56c6f06c6c4884",
            "8afeea544b8549e6bd0fe83ddf5d0d0c",
            "bfb355b9cfe1481eb73856845d92db64",
            "c3fc490e441e4942b53af5943efc68f0",
            "e33feebbc50f4a2980c14a285572c8ed",
            "a3327aa93a064a38b886c379e98c2d4f",
            "ff94c0744c8a4daaa671a613e9c4169d",
            "92b4b6d74392444184f1eadd9760d0ba",
            "951415581f814409a3d3987b362ae87a",
            "b1f1db091a8b47f6acc923855b40bcf3",
            "b8cc84ef9ab1481c98dca4891850d75d",
            "e0825e0a14fd463fbb1caf0799c82298",
            "081a8496ab3c46b79f6d423a32182706",
            "34464cdfef584f8597c5efc80ff29f1d",
            "db244efc881549f991c833eba38a0cf8",
            "3be184fa9d984465b6ca57ad4b664cdc",
            "2cd807a3b46745f989bd3c08dff9cb38",
            "ef740d8f4d3646ad9e6b6df99ca734bf",
            "2f0287df1764426c8695c0c3cdaf3cae",
            "abe3109bcaf04b0c92781cd72de05f85",
            "083bfdfc93ae4f81a53ec0543d1b4435",
            "3474342d05f84eefaa59c91f34920270",
            "bb71071aafd249a298f2537684f376ad",
            "6e74b038bde649b0ab5311766558ed21",
            "9ab4ce48e93c4f6d89b870c0e51cecfe",
            "d74a5ff3afb34f5091f9d8f8e5557765",
            "74d74bab39e84dcf87a1894fd4b74562",
            "78801e68933d4032a6b54d98d83281ac",
            "dfd3ca80d55544f4b4bf8e89e34a14dd",
            "228c67cfa2d44d9b8ab3424f021bd2d5",
            "305dc30dcb4240b2a14224b03b37c784",
            "a2bffa99b32242fabca7c7cdccd75d15",
            "bcf8ca4f83e44bd8abb52494f53bc239",
            "50b93c08da344951be9c68214ff20ff1",
            "998179542fac4c2da7fdd9a4000a0287",
            "380d246dcdbd498abeacc8187a8b12ff",
            "e3ab236d40744933afe7435bdbc5de3c",
            "38199301815d49cd9fa619ecf0302291",
            "e58b8f127ec84441a29f40cea2384842",
            "f60b40ad92834982b8502f2b7e562c6c",
            "c902d5aa264f4f13ad212bff155658f5",
            "ec5d3459c41042fcb1431db90a90cb9d",
            "e92e537d36ea4773aa67ec2d501a3d42",
            "3a8d346fb4cd4f6f85edf1fc2aecf1aa",
            "ddbd7817429d46bbaa36b355387e60a0",
            "ee52ba237deb48c5a61377530f73a9ba",
            "298a9c4600f44bf087545ab64f2a03ac",
            "1f6fc06613454851b983f1821e2dcdcd",
            "a738d9bb03784c5c8f75114134a9ddb3",
            "e4e3f247c94243d395fd324962efb57d",
            "fc46595e09f644f7aa0cf72650a977c0",
            "3da13639ddd24f0294768e0c52f34f14",
            "7b415d421b014f6e80cdadde738aa251",
            "5659eedf12d74e398093d52420de76e3",
            "47ffb8183b9746e1b427b15ec25dabd9",
            "4927bfb0e1ba493f859f8cb5a58a5bcb",
            "dca99f82cd074346889ffe16bb58b86c",
            "f861203e9c5d488cbc9350cd9e2827ee",
            "1350449b27ba40a2afd0991403e8167f",
            "6cdaa61be74740b4be280bb04570cce2",
            "121ba999837c4784a9c6ee38d521b2a5",
            "fbfaaeef69024907983b759d054e90ac",
            "644134d485ae40afb01c9fa6e3b53f1f",
            "0744765455c74f7dbdb52ace476e801c",
            "f8bc531d08f34b98a111ac68deab8c88",
            "b97c192ad7294b319b67ebdd2b8d8314",
            "acef80b25fd4427e85e51db0066faf3b",
            "201b1d9e14894e0c96c0c5e710a08cee",
            "20a2c8938d7045ee96e4a4e71b5d62c3",
            "053f1e79647e419ba18bf1a280adaf40",
            "f6bc8fc1d7104a899eed13672bffbf2a",
            "6a699056428f41e5bdeb1af7e5cc9df5",
            "551eedb6627f4981a6dbe29c77fa18de",
            "a188f5434363467cab5ef394658a8813",
            "2dca62ed53804eee95bd5e2303f5b87d",
            "81e2dc7531aa42b990eeb2d145da8316",
            "bdc0fab23f8c47ccb2d1db35c558b0a6",
            "582e12339b4c43ffb975cc85ec8b4b83",
            "cc60b63ea9454f91b58e59c27b4c4e40",
            "b186065485bb4a82ad3fbbd285d738a4",
            "fcc6c99a7fd64e3a9dfc1effadb9aaae",
            "023bedc2e7f24580959b2899a7518ff5",
            "ea3a819e61114fe28b5b085221ccf852",
            "26b4a25e827f47699af86de206292774",
            "e89dd85c25a148e786ac8026e10bafd3",
            "b9b44eb37ce8447cbf948ef3f3a9949e",
            "f6d40edbe07c4932a061e0783ed0b27d",
            "df12e39e9cec493c92a5d92477c2ac10",
            "103eba7bff034178bddb5aa5b21446de",
            "b1766d8ea78c47b99dfa39873a3947fc",
            "d5488638704a4f838207ebaa83cebebb",
            "20998fdc762b4da9832b63e0c52e0676",
            "cab4c4f3751e43cfa52485a369ecaf61",
            "77cff8e894694da4907ca1c018f174ad",
            "b78cfffd3cee4543aba6f35844d7c598",
            "8472cc4799b844968c92bebbec338a2f",
            "a7009b55a22746e0833ab45f0b6169f1",
            "6e07d79f3a99435bbd3b7851a0ed5cb9",
            "878ce1e7afda4ba8b3a50d08a3987fdd",
            "36a608fc10fc4c188d76fd066cae7475",
            "516356b4585e43b49fd4b4ca5ae7ef82",
            "e9d6df0c59e940a59becc18a7bcacf3a",
            "b43ad9a6bb1a422499199c15cb23ce11",
            "7a25a931a6784322b13c74825d11d724",
            "71d43d4ff4e44785a4dc02eafbcbde80",
            "595df626faec48d5a1db867cdeb81aa6",
            "165de36513ef44fb9d4a517050a951e0",
            "10478d4b61614f578f521e5e8e27ce8b",
            "d92e163afde645ba8203a57ea3551176",
            "8054172925d34e2595f9db0445d449de",
            "f1fc65b780b142db9cb2dd1ddffb0ed5",
            "dacd4e05de734c66af937165be2b617e",
            "48a9e2a1d6824ce5b8baf5868613f97d",
            "5d0ccefb4e3b49e393c89bef26c57355",
            "2570028a27a64b109651d69b2d035005",
            "a57a599a0ae1496fb94ba0d6206c3cf5",
            "0511f29539094e92973457852e141b24",
            "3617525bf36c4971bfd5d6dc0b3d3246",
            "5a2a906d7f5045bbac0342e27bd98ae2",
            "2709a6ddc6da4585b36d5b139bade5f2",
            "dc280328076f4d34ac7e4df7c0196e92",
            "f764ebd62c7f4072aeaee884621de509",
            "151518e214d9481cb7aa50dd4713b766",
            "3e8ce47c16be412094152a735bffed02",
            "32af8005e3cb47b19db5a2d8ecbd116d",
            "226b1087f68349c59c8ab4e3b150d6eb",
            "c2db9844e6a6490ba526cd748b1f9e31",
            "bfd3ce341c6c42fbbbd794ee3e8c4396",
            "5f321b55af02446ba8e995c27caf63f1",
            "c247dc5a0a024323ba2840fb5d967921",
            "b26e42455164432fbd0af7409a374cf2",
            "4dd91e5924d64f319f72607bab0cff9c",
            "e7b03d75138c41c8b45719e6414276dd",
            "db8d4a67cd84434ea0897534165f8cf9",
            "e1e1faa7955147ad9b167077337e39f3",
            "154151c4e4224e3786132829c9dcb5a0",
            "1f940c166fff4e9d80b5f18d744c5a2d",
            "28ae100d8218425b803421078f69d393",
            "4a60154f623f417da8f00cd681fbfccf",
            "378ffba0e3bf4861ab447b2e2f20c195",
            "6a683b87193b4c99845dc10de24ccccb",
            "ce953bbbe46442faa0526ee023ff3eb1",
            "a4db7988032d40dda7687474aeacd8b7",
            "23a0db7cc3fe4c8d89b4b9a002972c78",
            "bf37994ef2dc4e5e9588bfa5550d8ad1",
            "e31225a7e3f1461eb0200bfedb9a3d07",
            "cea5d383c4d84461a8f9abb3e8c4753a",
            "eb042c71f557448b8a8b072d76e7a357",
            "fdd95e0f349b48ad94ae7696ed04cc27",
            "177612813a704b73a5182a6decf9ba5a",
            "085164fc74d14c4cb10bf9512fd9f3a8",
            "7bb2991419444a42b33fb1b66ae0b31f",
            "aa102dead90e46dd809c31f268a10e43",
            "6da1c407acd648fcb8647a014059f0d2",
            "c2b4e6fd3a344ded8d7cac04407f59f2",
            "f597a688cf944800befb8904633c993b",
            "8dca1b5740384128b498f31af6678464",
            "4a04ccb3bffd49a7a917688205e83f4a",
            "45d0e5c1648f40d697d22abd1e650834",
            "01fe5e54f6aa43da84bdd897500d3de1",
            "1153000c320c445dbb122e3d8d80584b",
            "4b2e1cd79ed74070848fb7ce0d4d858d",
            "80e1f65889ff491a98f21fa1f39dfb0b",
            "ca8d949bcc3643ffacb888e685bc9b37",
            "ff15aec7e2e2485cb63244441b43cfd7",
            "e6422e592a9d4320ae083cf028eaa79c",
            "b44af3d5f90d49dc9e29c5e42fa3b201"
          ]
        },
        "id": "fHMnb_6vkC2a",
        "outputId": "8e426c27-01da-4b78-a685-d8ffe2968eb9"
      },
      "execution_count": 14,
      "outputs": [
        {
          "output_type": "stream",
          "name": "stdout",
          "text": [
            "\n",
            "Running GRU model...\n",
            "\n",
            "==================================================\n",
            "Training GRU Model\n",
            "==================================================\n"
          ]
        },
        {
          "output_type": "display_data",
          "data": {
            "text/plain": [
              "Epoch 1/10 [Train]:   0%|          | 0/358 [00:00<?, ?it/s]"
            ],
            "application/vnd.jupyter.widget-view+json": {
              "version_major": 2,
              "version_minor": 0,
              "model_id": "576533d683c045b6a8b9a1f8a702a806"
            }
          },
          "metadata": {}
        },
        {
          "output_type": "display_data",
          "data": {
            "text/plain": [
              "Epoch 1/10 [Valid]:   0%|          | 0/45 [00:00<?, ?it/s]"
            ],
            "application/vnd.jupyter.widget-view+json": {
              "version_major": 2,
              "version_minor": 0,
              "model_id": "020c4103615c475e84352befc5f3303a"
            }
          },
          "metadata": {}
        },
        {
          "output_type": "stream",
          "name": "stdout",
          "text": [
            "Epoch 1/10 | Train Loss: 0.5165, Acc: 0.7484 | Val Loss: 0.4336, Acc: 0.7989\n"
          ]
        },
        {
          "output_type": "display_data",
          "data": {
            "text/plain": [
              "Epoch 2/10 [Train]:   0%|          | 0/358 [00:00<?, ?it/s]"
            ],
            "application/vnd.jupyter.widget-view+json": {
              "version_major": 2,
              "version_minor": 0,
              "model_id": "d9efc8a095e84ec3b60e94f5a71342b3"
            }
          },
          "metadata": {}
        },
        {
          "output_type": "display_data",
          "data": {
            "text/plain": [
              "Epoch 2/10 [Valid]:   0%|          | 0/45 [00:00<?, ?it/s]"
            ],
            "application/vnd.jupyter.widget-view+json": {
              "version_major": 2,
              "version_minor": 0,
              "model_id": "b3b028c58f36489ca27f80dbfef6e695"
            }
          },
          "metadata": {}
        },
        {
          "output_type": "stream",
          "name": "stdout",
          "text": [
            "Epoch 2/10 | Train Loss: 0.3419, Acc: 0.8570 | Val Loss: 0.3647, Acc: 0.8419\n"
          ]
        },
        {
          "output_type": "display_data",
          "data": {
            "text/plain": [
              "Epoch 3/10 [Train]:   0%|          | 0/358 [00:00<?, ?it/s]"
            ],
            "application/vnd.jupyter.widget-view+json": {
              "version_major": 2,
              "version_minor": 0,
              "model_id": "2ffae4574a3946798c015631e1b5b26a"
            }
          },
          "metadata": {}
        },
        {
          "output_type": "display_data",
          "data": {
            "text/plain": [
              "Epoch 3/10 [Valid]:   0%|          | 0/45 [00:00<?, ?it/s]"
            ],
            "application/vnd.jupyter.widget-view+json": {
              "version_major": 2,
              "version_minor": 0,
              "model_id": "bfb355b9cfe1481eb73856845d92db64"
            }
          },
          "metadata": {}
        },
        {
          "output_type": "stream",
          "name": "stdout",
          "text": [
            "Epoch 3/10 | Train Loss: 0.2261, Acc: 0.9110 | Val Loss: 0.3906, Acc: 0.8475\n"
          ]
        },
        {
          "output_type": "display_data",
          "data": {
            "text/plain": [
              "Epoch 4/10 [Train]:   0%|          | 0/358 [00:00<?, ?it/s]"
            ],
            "application/vnd.jupyter.widget-view+json": {
              "version_major": 2,
              "version_minor": 0,
              "model_id": "34464cdfef584f8597c5efc80ff29f1d"
            }
          },
          "metadata": {}
        },
        {
          "output_type": "display_data",
          "data": {
            "text/plain": [
              "Epoch 4/10 [Valid]:   0%|          | 0/45 [00:00<?, ?it/s]"
            ],
            "application/vnd.jupyter.widget-view+json": {
              "version_major": 2,
              "version_minor": 0,
              "model_id": "9ab4ce48e93c4f6d89b870c0e51cecfe"
            }
          },
          "metadata": {}
        },
        {
          "output_type": "stream",
          "name": "stdout",
          "text": [
            "Epoch 4/10 | Train Loss: 0.1240, Acc: 0.9533 | Val Loss: 0.4661, Acc: 0.8482\n"
          ]
        },
        {
          "output_type": "display_data",
          "data": {
            "text/plain": [
              "Epoch 5/10 [Train]:   0%|          | 0/358 [00:00<?, ?it/s]"
            ],
            "application/vnd.jupyter.widget-view+json": {
              "version_major": 2,
              "version_minor": 0,
              "model_id": "380d246dcdbd498abeacc8187a8b12ff"
            }
          },
          "metadata": {}
        },
        {
          "output_type": "display_data",
          "data": {
            "text/plain": [
              "Epoch 5/10 [Valid]:   0%|          | 0/45 [00:00<?, ?it/s]"
            ],
            "application/vnd.jupyter.widget-view+json": {
              "version_major": 2,
              "version_minor": 0,
              "model_id": "298a9c4600f44bf087545ab64f2a03ac"
            }
          },
          "metadata": {}
        },
        {
          "output_type": "stream",
          "name": "stdout",
          "text": [
            "Epoch 5/10 | Train Loss: 0.0552, Acc: 0.9807 | Val Loss: 0.6279, Acc: 0.8408\n"
          ]
        },
        {
          "output_type": "display_data",
          "data": {
            "text/plain": [
              "Epoch 6/10 [Train]:   0%|          | 0/358 [00:00<?, ?it/s]"
            ],
            "application/vnd.jupyter.widget-view+json": {
              "version_major": 2,
              "version_minor": 0,
              "model_id": "f861203e9c5d488cbc9350cd9e2827ee"
            }
          },
          "metadata": {}
        },
        {
          "output_type": "display_data",
          "data": {
            "text/plain": [
              "Epoch 6/10 [Valid]:   0%|          | 0/45 [00:00<?, ?it/s]"
            ],
            "application/vnd.jupyter.widget-view+json": {
              "version_major": 2,
              "version_minor": 0,
              "model_id": "20a2c8938d7045ee96e4a4e71b5d62c3"
            }
          },
          "metadata": {}
        },
        {
          "output_type": "stream",
          "name": "stdout",
          "text": [
            "Epoch 6/10 | Train Loss: 0.0236, Acc: 0.9924 | Val Loss: 0.8801, Acc: 0.8485\n"
          ]
        },
        {
          "output_type": "display_data",
          "data": {
            "text/plain": [
              "Epoch 7/10 [Train]:   0%|          | 0/358 [00:00<?, ?it/s]"
            ],
            "application/vnd.jupyter.widget-view+json": {
              "version_major": 2,
              "version_minor": 0,
              "model_id": "b186065485bb4a82ad3fbbd285d738a4"
            }
          },
          "metadata": {}
        },
        {
          "output_type": "display_data",
          "data": {
            "text/plain": [
              "Epoch 7/10 [Valid]:   0%|          | 0/45 [00:00<?, ?it/s]"
            ],
            "application/vnd.jupyter.widget-view+json": {
              "version_major": 2,
              "version_minor": 0,
              "model_id": "d5488638704a4f838207ebaa83cebebb"
            }
          },
          "metadata": {}
        },
        {
          "output_type": "stream",
          "name": "stdout",
          "text": [
            "Epoch 7/10 | Train Loss: 0.0137, Acc: 0.9957 | Val Loss: 1.0112, Acc: 0.8473\n"
          ]
        },
        {
          "output_type": "display_data",
          "data": {
            "text/plain": [
              "Epoch 8/10 [Train]:   0%|          | 0/358 [00:00<?, ?it/s]"
            ],
            "application/vnd.jupyter.widget-view+json": {
              "version_major": 2,
              "version_minor": 0,
              "model_id": "e9d6df0c59e940a59becc18a7bcacf3a"
            }
          },
          "metadata": {}
        },
        {
          "output_type": "display_data",
          "data": {
            "text/plain": [
              "Epoch 8/10 [Valid]:   0%|          | 0/45 [00:00<?, ?it/s]"
            ],
            "application/vnd.jupyter.widget-view+json": {
              "version_major": 2,
              "version_minor": 0,
              "model_id": "48a9e2a1d6824ce5b8baf5868613f97d"
            }
          },
          "metadata": {}
        },
        {
          "output_type": "stream",
          "name": "stdout",
          "text": [
            "Epoch 8/10 | Train Loss: 0.0106, Acc: 0.9965 | Val Loss: 1.1143, Acc: 0.8454\n"
          ]
        },
        {
          "output_type": "display_data",
          "data": {
            "text/plain": [
              "Epoch 9/10 [Train]:   0%|          | 0/358 [00:00<?, ?it/s]"
            ],
            "application/vnd.jupyter.widget-view+json": {
              "version_major": 2,
              "version_minor": 0,
              "model_id": "3e8ce47c16be412094152a735bffed02"
            }
          },
          "metadata": {}
        },
        {
          "output_type": "display_data",
          "data": {
            "text/plain": [
              "Epoch 9/10 [Valid]:   0%|          | 0/45 [00:00<?, ?it/s]"
            ],
            "application/vnd.jupyter.widget-view+json": {
              "version_major": 2,
              "version_minor": 0,
              "model_id": "e1e1faa7955147ad9b167077337e39f3"
            }
          },
          "metadata": {}
        },
        {
          "output_type": "stream",
          "name": "stdout",
          "text": [
            "Epoch 9/10 | Train Loss: 0.0121, Acc: 0.9961 | Val Loss: 1.0711, Acc: 0.8384\n"
          ]
        },
        {
          "output_type": "display_data",
          "data": {
            "text/plain": [
              "Epoch 10/10 [Train]:   0%|          | 0/358 [00:00<?, ?it/s]"
            ],
            "application/vnd.jupyter.widget-view+json": {
              "version_major": 2,
              "version_minor": 0,
              "model_id": "e31225a7e3f1461eb0200bfedb9a3d07"
            }
          },
          "metadata": {}
        },
        {
          "output_type": "display_data",
          "data": {
            "text/plain": [
              "Epoch 10/10 [Valid]:   0%|          | 0/45 [00:00<?, ?it/s]"
            ],
            "application/vnd.jupyter.widget-view+json": {
              "version_major": 2,
              "version_minor": 0,
              "model_id": "8dca1b5740384128b498f31af6678464"
            }
          },
          "metadata": {}
        },
        {
          "output_type": "stream",
          "name": "stdout",
          "text": [
            "Epoch 10/10 | Train Loss: 0.0117, Acc: 0.9958 | Val Loss: 1.2265, Acc: 0.8447\n",
            "Training completed in 425.58 seconds\n"
          ]
        },
        {
          "output_type": "stream",
          "name": "stderr",
          "text": [
            "<ipython-input-7-0e137c00bfb7>:81: FutureWarning: You are using `torch.load` with `weights_only=False` (the current default value), which uses the default pickle module implicitly. It is possible to construct malicious pickle data which will execute arbitrary code during unpickling (See https://github.com/pytorch/pytorch/blob/main/SECURITY.md#untrusted-models for more details). In a future release, the default value for `weights_only` will be flipped to `True`. This limits the functions that could be executed during unpickling. Arbitrary objects will no longer be allowed to be loaded via this mode unless they are explicitly allowlisted by the user via `torch.serialization.add_safe_globals`. We recommend you start setting `weights_only=True` for any use case where you don't have full control of the loaded file. Please open an issue on GitHub for any issues related to this experimental feature.\n",
            "  model.load_state_dict(torch.load(f\"{model_name}_best.pt\"))\n"
          ]
        },
        {
          "output_type": "stream",
          "name": "stdout",
          "text": [
            "\n",
            "GRU Results:\n",
            "Accuracy: 0.8485\n",
            "Precision: 0.8350\n",
            "Recall: 0.8500\n",
            "F1 Score: 0.8424\n",
            "F1 Squared: 0.7097\n",
            "AUC: 0.9275\n"
          ]
        },
        {
          "output_type": "display_data",
          "data": {
            "text/plain": [
              "<Figure size 800x600 with 1 Axes>"
            ],
            "image/png": "[encoded data removed]"
          },
          "metadata": {}
        },
        {
          "output_type": "display_data",
          "data": {
            "text/plain": [
              "<Figure size 1200x500 with 2 Axes>"
            ],
            "image/png": "[encoded data removed]"
          },
          "metadata": {}
        }
      ]
    },
    {
      "cell_type": "code",
      "source": [
        "# Compare model results\n",
        "print(\"\\n\" + \"=\"*50)\n",
        "print(\"Model Comparison\")\n",
        "print(\"=\"*50)\n",
        "headers = [\"Model\", \"Accuracy\", \"Precision\", \"Recall\", \"F1 Squared\", \"AUC\"]\n",
        "print(f\"{headers[0]:<10} {headers[1]:<10} {headers[2]:<10} {headers[3]:<10} {headers[4]:<10} {headers[5]:<10}\")\n",
        "print(\"-\"*60)\n",
        "\n",
        "for model_name, metrics in results.items():\n",
        "    acc, prec, rec, f1_sq, auc = metrics\n",
        "    print(f\"{model_name.upper():<10} {acc:<10.4f} {prec:<10.4f} {rec:<10.4f} {f1_sq:<10.4f} {auc:<10.4f}\")\n"
      ],
      "metadata": {
        "colab": {
          "base_uri": "https://localhost:8080/"
        },
        "id": "zDXlCeS4kEfh",
        "outputId": "7bd3409d-1a69-40ca-aec0-027d36f7133c"
      },
      "execution_count": 15,
      "outputs": [
        {
          "output_type": "stream",
          "name": "stdout",
          "text": [
            "\n",
            "==================================================\n",
            "Model Comparison\n",
            "==================================================\n",
            "Model      Accuracy   Precision  Recall     F1 Squared AUC       \n",
            "------------------------------------------------------------\n",
            "RNN        0.8456     0.8048     0.8922     0.7162     0.9239    \n",
            "LSTM       0.8519     0.8413     0.8493     0.7145     0.9275    \n",
            "GRU        0.8485     0.8350     0.8500     0.7097     0.9275    \n"
          ]
        }
      ]
    },
    {
      "cell_type": "code",
      "source": [
        "# Plot comparison bar chart\n",
        "plt.figure(figsize=(12, 6))\n",
        "models = list(results.keys())\n",
        "metrics = [\"Accuracy\", \"Precision\", \"Recall\", \"F1 Squared\", \"AUC\"]\n",
        "\n",
        "for i, metric in enumerate(metrics):\n",
        "    plt.subplot(1, 5, i+1)\n",
        "    values = [results[model][i] for model in models]\n",
        "    plt.bar([m.upper() for m in models], values, color=['blue', 'green', 'orange'])\n",
        "    plt.title(metric)\n",
        "    plt.ylim(0, 1)\n",
        "    plt.grid(axis='y', alpha=0.3)\n",
        "\n",
        "plt.tight_layout()\n",
        "plt.savefig(\"model_comparison.png\")\n",
        "plt.show()\n"
      ],
      "metadata": {
        "colab": {
          "base_uri": "https://localhost:8080/",
          "height": 607
        },
        "id": "WnRRmgpLkE-5",
        "outputId": "3101a404-4f19-4821-afd3-a57fba2cef6c"
      },
      "execution_count": 16,
      "outputs": [
        {
          "output_type": "display_data",
          "data": {
            "text/plain": [
              "<Figure size 1200x600 with 5 Axes>"
            ],
            "image/png": "[encoded data removed]"
          },
          "metadata": {}
        }
      ]
    }
  ]
}
